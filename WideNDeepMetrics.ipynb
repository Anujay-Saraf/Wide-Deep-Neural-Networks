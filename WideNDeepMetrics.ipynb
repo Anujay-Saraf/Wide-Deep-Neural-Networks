{
 "cells": [
  {
   "cell_type": "code",
   "execution_count": 24,
   "metadata": {},
   "outputs": [],
   "source": [
    "import pandas as pd\n",
    "import numpy as np\n",
    "from bokeh.palettes import Spectral11\n",
    "from bokeh.plotting import figure, show, output_file\n",
    "output_file('temp.html')\n",
    "\n",
    "#toy_df = pd.DataFrame(data=np.random.rand(5,3), columns = ('Loss', 'Accu'), index = deep_results['Seq'].values)   \n",
    "\n",
    "toy_df = deeper_results\n",
    "\n",
    "numlines=len(toy_df.columns)\n",
    "mypalette=Spectral11[0:numlines]\n",
    "\n",
    "p = figure(width=500, height=300) \n",
    "p.multi_line(xs=[toy_df.index.values]*numlines,\n",
    "                ys=[toy_df[name].values for name in toy_df],\n",
    "                line_color=mypalette,\n",
    "                line_width=5)\n",
    "p.title.text = 'Wide & Deep Model Accuracy & Loss For 10 Epochs'\n",
    "\n",
    "show(p)"
   ]
  },
  {
   "cell_type": "code",
   "execution_count": 5,
   "metadata": {},
   "outputs": [
    {
     "name": "stdout",
     "output_type": "stream",
     "text": [
      "   Loss\n",
      "0     1\n",
      "1    33\n",
      "2     2\n",
      "3     3\n"
     ]
    }
   ],
   "source": [
    "results_df = pd.DataFrame()\n",
    "results_df['Loss'] = [1,33,2,3]\n",
    "print (results_df)"
   ]
  },
  {
   "cell_type": "code",
   "execution_count": 22,
   "metadata": {},
   "outputs": [
    {
     "data": {
      "text/html": [
       "<div>\n",
       "<style scoped>\n",
       "    .dataframe tbody tr th:only-of-type {\n",
       "        vertical-align: middle;\n",
       "    }\n",
       "\n",
       "    .dataframe tbody tr th {\n",
       "        vertical-align: top;\n",
       "    }\n",
       "\n",
       "    .dataframe thead th {\n",
       "        text-align: right;\n",
       "    }\n",
       "</style>\n",
       "<table border=\"1\" class=\"dataframe\">\n",
       "  <thead>\n",
       "    <tr style=\"text-align: right;\">\n",
       "      <th></th>\n",
       "      <th>Loss</th>\n",
       "      <th>Accu</th>\n",
       "    </tr>\n",
       "  </thead>\n",
       "  <tbody>\n",
       "    <tr>\n",
       "      <th>0</th>\n",
       "      <td>0.502</td>\n",
       "      <td>0.8240</td>\n",
       "    </tr>\n",
       "    <tr>\n",
       "      <th>1</th>\n",
       "      <td>0.472</td>\n",
       "      <td>0.8377</td>\n",
       "    </tr>\n",
       "    <tr>\n",
       "      <th>2</th>\n",
       "      <td>0.463</td>\n",
       "      <td>0.8405</td>\n",
       "    </tr>\n",
       "    <tr>\n",
       "      <th>3</th>\n",
       "      <td>0.096</td>\n",
       "      <td>0.8418</td>\n",
       "    </tr>\n",
       "    <tr>\n",
       "      <th>4</th>\n",
       "      <td>0.454</td>\n",
       "      <td>0.8426</td>\n",
       "    </tr>\n",
       "    <tr>\n",
       "      <th>5</th>\n",
       "      <td>0.235</td>\n",
       "      <td>0.8441</td>\n",
       "    </tr>\n",
       "    <tr>\n",
       "      <th>6</th>\n",
       "      <td>0.302</td>\n",
       "      <td>0.8452</td>\n",
       "    </tr>\n",
       "    <tr>\n",
       "      <th>7</th>\n",
       "      <td>0.342</td>\n",
       "      <td>0.8450</td>\n",
       "    </tr>\n",
       "    <tr>\n",
       "      <th>8</th>\n",
       "      <td>0.405</td>\n",
       "      <td>0.8453</td>\n",
       "    </tr>\n",
       "    <tr>\n",
       "      <th>9</th>\n",
       "      <td>0.230</td>\n",
       "      <td>0.8477</td>\n",
       "    </tr>\n",
       "  </tbody>\n",
       "</table>\n",
       "</div>"
      ],
      "text/plain": [
       "    Loss    Accu\n",
       "0  0.502  0.8240\n",
       "1  0.472  0.8377\n",
       "2  0.463  0.8405\n",
       "3  0.096  0.8418\n",
       "4  0.454  0.8426\n",
       "5  0.235  0.8441\n",
       "6  0.302  0.8452\n",
       "7  0.342  0.8450\n",
       "8  0.405  0.8453\n",
       "9  0.230  0.8477"
      ]
     },
     "execution_count": 22,
     "metadata": {},
     "output_type": "execute_result"
    }
   ],
   "source": [
    "widedeep_results = pd.read_csv('DeepResults.csv')\n",
    "widedeep_results"
   ]
  },
  {
   "cell_type": "code",
   "execution_count": null,
   "metadata": {
    "collapsed": true
   },
   "outputs": [],
   "source": [
    "deep_results ="
   ]
  }
 ],
 "metadata": {
  "kernelspec": {
   "display_name": "Python 3",
   "language": "python",
   "name": "python3"
  },
  "language_info": {
   "codemirror_mode": {
    "name": "ipython",
    "version": 3
   },
   "file_extension": ".py",
   "mimetype": "text/x-python",
   "name": "python",
   "nbconvert_exporter": "python",
   "pygments_lexer": "ipython3",
   "version": "3.6.2"
  }
 },
 "nbformat": 4,
 "nbformat_minor": 2
}
